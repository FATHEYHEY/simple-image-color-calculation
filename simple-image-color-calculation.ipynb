{
 "cells": [
  {
   "cell_type": "code",
   "execution_count": 5,
   "metadata": {},
   "outputs": [],
   "source": [
    "from PIL import Image\n",
    "import numpy as np\n",
    "import pandas as pd\n",
    "\n",
    "def get_image_info(image):\n",
    "    width, height = image.size\n",
    "    resolution = f\"Resolution: {width} x {height} = {width * height} pixels\"\n",
    "    return resolution\n",
    "\n",
    "def count_colors_fast(image):\n",
    "    pixels = np.array(image)\n",
    "    h, w, c = pixels.shape\n",
    "    pixels2 = pixels.reshape(h * w, c)\n",
    "    view = pixels2.view(np.dtype((np.void, pixels2.dtype.itemsize * c)))\n",
    "    unique, counts = np.unique(view, return_counts=True)\n",
    "    unique_colors = list(map(tuple, unique.view(pixels2.dtype).reshape(-1, c)))\n",
    "    return dict(zip(unique_colors, counts))\n",
    "\n",
    "def analyze_image(image_path):   \n",
    "    image = Image.open(image_path).convert(\"RGBA\")\n",
    "    resolution = get_image_info(image)\n",
    "    color_counts = count_colors_fast(image)\n",
    "    color_data = [(value, count) for value, count in color_counts.items()]\n",
    "    df = pd.DataFrame(color_data, columns=[\"Value\", \"Count\"]).sort_values(by=\"Count\", ascending=False)\n",
    "    print(resolution)\n",
    "    return df, color_counts\n",
    "\n",
    "def color_background(val):\n",
    "    if isinstance(val, tuple):\n",
    "        if len(val) == 4:\n",
    "            r, g, b, a = val\n",
    "            if a < 255:\n",
    "                return f\"background-color: rgba({r}, {g}, {b}, {a/255:.2f})\"\n",
    "            return f\"background-color: rgb({r}, {g}, {b})\"\n",
    "        elif len(val) == 3:\n",
    "            r, g, b = val\n",
    "            return f\"background-color: rgb({r}, {g}, {b})\"\n",
    "    return \"\"\n",
    "\n",
    "def colorize(color_counts):\n",
    "    color_data = [(value, value, count) for value, count in color_counts.items()]\n",
    "    df = pd.DataFrame(color_data, columns=[\"Color\", \"Value\", \"Count\"]).sort_values(by=\"Count\", ascending=False)\n",
    "    styled_df = df.style.map(color_background, subset=[\"Color\"])\n",
    "    styled_df = styled_df.format({\"Color\": \"\"})\n",
    "    return styled_df"
   ]
  },
  {
   "cell_type": "code",
   "execution_count": null,
   "metadata": {},
   "outputs": [
    {
     "name": "stdout",
     "output_type": "stream",
     "text": [
      "Resolution: 1024 x 768 = 786432 pixels\n"
     ]
    },
    {
     "data": {
      "application/vnd.microsoft.datawrangler.viewer.v0+json": {
       "columns": [
        {
         "name": "index",
         "rawType": "int64",
         "type": "integer"
        },
        {
         "name": "Value",
         "rawType": "object",
         "type": "unknown"
        },
        {
         "name": "Count",
         "rawType": "int64",
         "type": "integer"
        }
       ],
       "ref": "e67e095b-ad14-4719-80e8-77f7b7d386fe",
       "rows": [
        [
         "52",
         "(1, 1, 1, 255)",
         "5347"
        ],
        [
         "95",
         "(2, 2, 2, 255)",
         "4876"
        ],
        [
         "0",
         "(0, 0, 0, 255)",
         "4761"
        ],
        [
         "96",
         "(2, 2, 4, 255)",
         "4301"
        ],
        [
         "151",
         "(3, 3, 5, 255)",
         "4190"
        ],
        [
         "53",
         "(1, 1, 3, 255)",
         "3734"
        ],
        [
         "150",
         "(3, 3, 3, 255)",
         "3721"
        ],
        [
         "204",
         "(4, 4, 6, 255)",
         "3470"
        ],
        [
         "266",
         "(5, 5, 7, 255)",
         "2718"
        ],
        [
         "203",
         "(4, 4, 4, 255)",
         "2638"
        ],
        [
         "56",
         "(1, 2, 4, 255)",
         "2366"
        ],
        [
         "99",
         "(2, 3, 5, 255)",
         "2298"
        ],
        [
         "1",
         "(0, 0, 2, 255)",
         "2291"
        ],
        [
         "265",
         "(5, 5, 5, 255)",
         "2025"
        ],
        [
         "155",
         "(3, 4, 6, 255)",
         "1896"
        ],
        [
         "334",
         "(6, 6, 8, 255)",
         "1877"
        ],
        [
         "1013",
         "(13, 13, 15, 255)",
         "1876"
        ],
        [
         "895",
         "(12, 12, 14, 255)",
         "1850"
        ],
        [
         "1128",
         "(14, 14, 16, 255)",
         "1775"
        ],
        [
         "1637",
         "(18, 18, 20, 255)",
         "1758"
        ],
        [
         "1790",
         "(19, 19, 21, 255)",
         "1756"
        ],
        [
         "1364",
         "(16, 16, 18, 255)",
         "1744"
        ],
        [
         "1500",
         "(17, 17, 19, 255)",
         "1719"
        ],
        [
         "1242",
         "(15, 15, 17, 255)",
         "1704"
        ],
        [
         "1636",
         "(18, 18, 18, 255)",
         "1697"
        ],
        [
         "5",
         "(0, 1, 3, 255)",
         "1665"
        ],
        [
         "1012",
         "(13, 13, 13, 255)",
         "1661"
        ],
        [
         "1241",
         "(15, 15, 15, 255)",
         "1606"
        ],
        [
         "1127",
         "(14, 14, 14, 255)",
         "1604"
        ],
        [
         "1363",
         "(16, 16, 16, 255)",
         "1601"
        ],
        [
         "1499",
         "(17, 17, 17, 255)",
         "1594"
        ],
        [
         "779",
         "(11, 11, 13, 255)",
         "1571"
        ],
        [
         "1789",
         "(19, 19, 19, 255)",
         "1540"
        ],
        [
         "413",
         "(7, 7, 9, 255)",
         "1521"
        ],
        [
         "210",
         "(4, 5, 9, 255)",
         "1505"
        ],
        [
         "894",
         "(12, 12, 12, 255)",
         "1477"
        ],
        [
         "1940",
         "(20, 20, 22, 255)",
         "1473"
        ],
        [
         "209",
         "(4, 5, 7, 255)",
         "1453"
        ],
        [
         "1939",
         "(20, 20, 20, 255)",
         "1411"
        ],
        [
         "156",
         "(3, 4, 8, 255)",
         "1398"
        ],
        [
         "333",
         "(6, 6, 6, 255)",
         "1394"
        ],
        [
         "497",
         "(8, 8, 10, 255)",
         "1280"
        ],
        [
         "272",
         "(5, 6, 10, 255)",
         "1276"
        ],
        [
         "778",
         "(11, 11, 11, 255)",
         "1266"
        ],
        [
         "676",
         "(10, 10, 12, 255)",
         "1252"
        ],
        [
         "578",
         "(9, 9, 11, 255)",
         "1234"
        ],
        [
         "60",
         "(1, 3, 2, 255)",
         "1226"
        ],
        [
         "261",
         "(5, 4, 9, 255)",
         "1212"
        ],
        [
         "1621",
         "(18, 16, 17, 255)",
         "1196"
        ],
        [
         "2093",
         "(21, 21, 23, 255)",
         "1196"
        ]
       ],
       "shape": {
        "columns": 2,
        "rows": 77391
       }
      },
      "text/html": [
       "<div>\n",
       "<style scoped>\n",
       "    .dataframe tbody tr th:only-of-type {\n",
       "        vertical-align: middle;\n",
       "    }\n",
       "\n",
       "    .dataframe tbody tr th {\n",
       "        vertical-align: top;\n",
       "    }\n",
       "\n",
       "    .dataframe thead th {\n",
       "        text-align: right;\n",
       "    }\n",
       "</style>\n",
       "<table border=\"1\" class=\"dataframe\">\n",
       "  <thead>\n",
       "    <tr style=\"text-align: right;\">\n",
       "      <th></th>\n",
       "      <th>Value</th>\n",
       "      <th>Count</th>\n",
       "    </tr>\n",
       "  </thead>\n",
       "  <tbody>\n",
       "    <tr>\n",
       "      <th>52</th>\n",
       "      <td>(1, 1, 1, 255)</td>\n",
       "      <td>5347</td>\n",
       "    </tr>\n",
       "    <tr>\n",
       "      <th>95</th>\n",
       "      <td>(2, 2, 2, 255)</td>\n",
       "      <td>4876</td>\n",
       "    </tr>\n",
       "    <tr>\n",
       "      <th>0</th>\n",
       "      <td>(0, 0, 0, 255)</td>\n",
       "      <td>4761</td>\n",
       "    </tr>\n",
       "    <tr>\n",
       "      <th>96</th>\n",
       "      <td>(2, 2, 4, 255)</td>\n",
       "      <td>4301</td>\n",
       "    </tr>\n",
       "    <tr>\n",
       "      <th>151</th>\n",
       "      <td>(3, 3, 5, 255)</td>\n",
       "      <td>4190</td>\n",
       "    </tr>\n",
       "    <tr>\n",
       "      <th>...</th>\n",
       "      <td>...</td>\n",
       "      <td>...</td>\n",
       "    </tr>\n",
       "    <tr>\n",
       "      <th>41463</th>\n",
       "      <td>(140, 76, 4, 255)</td>\n",
       "      <td>1</td>\n",
       "    </tr>\n",
       "    <tr>\n",
       "      <th>41465</th>\n",
       "      <td>(140, 76, 14, 255)</td>\n",
       "      <td>1</td>\n",
       "    </tr>\n",
       "    <tr>\n",
       "      <th>41466</th>\n",
       "      <td>(140, 76, 51, 255)</td>\n",
       "      <td>1</td>\n",
       "    </tr>\n",
       "    <tr>\n",
       "      <th>41467</th>\n",
       "      <td>(140, 77, 0, 255)</td>\n",
       "      <td>1</td>\n",
       "    </tr>\n",
       "    <tr>\n",
       "      <th>77390</th>\n",
       "      <td>(255, 255, 253, 255)</td>\n",
       "      <td>1</td>\n",
       "    </tr>\n",
       "  </tbody>\n",
       "</table>\n",
       "<p>77391 rows × 2 columns</p>\n",
       "</div>"
      ],
      "text/plain": [
       "                      Value  Count\n",
       "52           (1, 1, 1, 255)   5347\n",
       "95           (2, 2, 2, 255)   4876\n",
       "0            (0, 0, 0, 255)   4761\n",
       "96           (2, 2, 4, 255)   4301\n",
       "151          (3, 3, 5, 255)   4190\n",
       "...                     ...    ...\n",
       "41463     (140, 76, 4, 255)      1\n",
       "41465    (140, 76, 14, 255)      1\n",
       "41466    (140, 76, 51, 255)      1\n",
       "41467     (140, 77, 0, 255)      1\n",
       "77390  (255, 255, 253, 255)      1\n",
       "\n",
       "[77391 rows x 2 columns]"
      ]
     },
     "execution_count": 6,
     "metadata": {},
     "output_type": "execute_result"
    }
   ],
   "source": [
    "image_path = \"Lighthouse.jpg\"  #<------Change this to the path of the image you want to analyze.\n",
    "df, color_counts = analyze_image(image_path)\n",
    "df"
   ]
  },
  {
   "cell_type": "markdown",
   "metadata": {},
   "source": [
    "# Display the DataFrame, this requires running in a Jupyter Notebook or an environment that supports HTML."
   ]
  },
  {
   "cell_type": "code",
   "execution_count": null,
   "metadata": {},
   "outputs": [],
   "source": [
    "styled_df = colorize(color_counts)\n",
    "styled_df"
   ]
  }
 ],
 "metadata": {
  "kernelspec": {
   "display_name": "Python 3",
   "language": "python",
   "name": "python3"
  },
  "language_info": {
   "codemirror_mode": {
    "name": "ipython",
    "version": 3
   },
   "file_extension": ".py",
   "mimetype": "text/x-python",
   "name": "python",
   "nbconvert_exporter": "python",
   "pygments_lexer": "ipython3",
   "version": "3.12.10"
  }
 },
 "nbformat": 4,
 "nbformat_minor": 2
}
